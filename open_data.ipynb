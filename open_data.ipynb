{
 "cells": [
  {
   "cell_type": "code",
   "execution_count": 1,
   "metadata": {},
   "outputs": [],
   "source": [
    "import numpy as np\n",
    "import pandas as pd\n",
    "import torch\n",
    "import warnings\n"
   ]
  },
  {
   "cell_type": "code",
   "execution_count": 36,
   "metadata": {},
   "outputs": [],
   "source": [
    "import tqdm"
   ]
  },
  {
   "cell_type": "code",
   "execution_count": 2,
   "metadata": {},
   "outputs": [],
   "source": [
    "import os\n",
    "import zipfile"
   ]
  },
  {
   "cell_type": "code",
   "execution_count": 3,
   "metadata": {},
   "outputs": [],
   "source": [
    "import spectral.io.envi as envi\n",
    "import spectral as spy\n",
    "from spectral import open_image"
   ]
  },
  {
   "cell_type": "code",
   "execution_count": 4,
   "metadata": {},
   "outputs": [
    {
     "name": "stdout",
     "output_type": "stream",
     "text": [
      "  Файл: avocado_21.10.06_short.zip\n",
      "  Размер: 1061458904\tБлоков: 2073176    Блок В/В: 4096   обычный файл\n",
      "Устройство: 805h/2053d\tInode: 7908333     Ссылки: 1\n",
      "Доступ: (0664/-rw-rw-r--)  Uid: ( 1000/   sofya)   Gid: ( 1000/   sofya)\n",
      "Доступ: 2023-03-15 13:39:07.675007905 +0200\n",
      "Модифицирован: 2023-03-15 13:22:19.006176932 +0200\n",
      "Изменён: 2023-03-15 13:30:58.386795094 +0200\n",
      " Создан: -\n"
     ]
    }
   ],
   "source": [
    "!stat 'avocado_21.10.06_short.zip'"
   ]
  },
  {
   "cell_type": "code",
   "execution_count": 5,
   "metadata": {},
   "outputs": [
    {
     "data": {
      "text/plain": [
       "'/home/sofya/Рабочий стол/PureFruit/1419/capture/1419.hdr'"
      ]
     },
     "execution_count": 5,
     "metadata": {},
     "output_type": "execute_result"
    }
   ],
   "source": [
    "zip_source = zipfile.ZipFile('/home/sofya/Рабочий стол/PureFruit/avocado_21.10.06_short.zip')\n",
    "zip_source.extract(\"1419/capture/1419.hdr\")"
   ]
  },
  {
   "cell_type": "code",
   "execution_count": 6,
   "metadata": {},
   "outputs": [],
   "source": [
    "spec_df = []"
   ]
  },
  {
   "cell_type": "code",
   "execution_count": 7,
   "metadata": {},
   "outputs": [
    {
     "name": "stdout",
     "output_type": "stream",
     "text": [
      "1419  1419.hdr\tavocado_21.10.06_short.zip  open_data.ipynb\n"
     ]
    }
   ],
   "source": [
    "!ls"
   ]
  },
  {
   "cell_type": "code",
   "execution_count": 55,
   "metadata": {},
   "outputs": [],
   "source": [
    "spectr = envi.open(\"REFLECTANCE_1419.hdr\").asarray()"
   ]
  },
  {
   "cell_type": "code",
   "execution_count": 57,
   "metadata": {},
   "outputs": [
    {
     "data": {
      "text/plain": [
       "memmap([[[0.32936507, 0.33270043, 0.32465985, ..., 0.22840084,\n",
       "          0.21600221, 0.21947114],\n",
       "         [0.35132277, 0.33270043, 0.32465985, ..., 0.21547249,\n",
       "          0.21140642, 0.21947114],\n",
       "         [0.35132277, 0.33270043, 0.32465985, ..., 0.21978194,\n",
       "          0.21600221, 0.22612178],\n",
       "         ...,\n",
       "         [0.17566139, 0.13833334, 0.11292516, ..., 0.29735205,\n",
       "          0.2839956 , 0.29927883],\n",
       "         [0.1537037 , 0.14008439, 0.11292516, ..., 0.29304257,\n",
       "          0.29872647, 0.29927883],\n",
       "         [0.17566139, 0.14008439, 0.11292516, ..., 0.29304257,\n",
       "          0.2895349 , 0.31923077]],\n",
       "\n",
       "        [[0.32936507, 0.31518987, 0.3105442 , ..., 0.21116304,\n",
       "          0.21600221, 0.22612178],\n",
       "         [0.35132277, 0.33270043, 0.3387755 , ..., 0.21978194,\n",
       "          0.21140642, 0.21947114],\n",
       "         [0.35132277, 0.33270043, 0.3387755 , ..., 0.21978194,\n",
       "          0.21600221, 0.23277242],\n",
       "         ...,\n",
       "         [0.1537037 , 0.13833334, 0.11292516, ..., 0.29304257,\n",
       "          0.28857616, 0.3125801 ],\n",
       "         [0.1537037 , 0.14008439, 0.12704082, ..., 0.29304257,\n",
       "          0.29413068, 0.31923077],\n",
       "         [0.17566139, 0.14008439, 0.11292516, ..., 0.29735205,\n",
       "          0.2895349 , 0.3258814 ]],\n",
       "\n",
       "        [[0.32936507, 0.33270043, 0.32465985, ..., 0.21547249,\n",
       "          0.21140642, 0.23277242],\n",
       "         [0.32936507, 0.33270043, 0.3105442 , ..., 0.21978194,\n",
       "          0.21600221, 0.22612178],\n",
       "         [0.32936507, 0.33270043, 0.3387755 , ..., 0.22409138,\n",
       "          0.21600221, 0.22612178],\n",
       "         ...,\n",
       "         [0.17566139, 0.12104166, 0.11292516, ..., 0.29304257,\n",
       "          0.29315674, 0.31923077],\n",
       "         [0.1537037 , 0.14008439, 0.11292516, ..., 0.28873312,\n",
       "          0.29413068, 0.31923077],\n",
       "         [0.17566139, 0.14008439, 0.11292516, ..., 0.29735205,\n",
       "          0.29413068, 0.31923077]],\n",
       "\n",
       "        ...,\n",
       "\n",
       "        [[0.35132277, 0.28016877, 0.2823129 , ..., 0.23271029,\n",
       "          0.22978958, 0.23942307],\n",
       "         [0.35132277, 0.31518987, 0.2823129 , ..., 0.24132918,\n",
       "          0.22978958, 0.24607371],\n",
       "         [0.32936507, 0.29767933, 0.29642856, ..., 0.23271029,\n",
       "          0.22978958, 0.23942307],\n",
       "         ...,\n",
       "         [0.21957673, 0.17291667, 0.1552721 , ..., 0.43956387,\n",
       "          0.43057397, 0.46554485],\n",
       "         [0.21957673, 0.17510548, 0.1552721 , ..., 0.44387332,\n",
       "          0.4503876 , 0.47884613],\n",
       "         [0.21957673, 0.17510548, 0.14115645, ..., 0.45680168,\n",
       "          0.44119602, 0.4854968 ]],\n",
       "\n",
       "        [[0.32936507, 0.29767933, 0.2823129 , ..., 0.23701973,\n",
       "          0.23438539, 0.23942307],\n",
       "         [0.32936507, 0.29767933, 0.29642856, ..., 0.23271029,\n",
       "          0.2251938 , 0.23942307],\n",
       "         [0.3074074 , 0.31518987, 0.2823129 , ..., 0.23701973,\n",
       "          0.23438539, 0.23942307],\n",
       "         ...,\n",
       "         [0.19761905, 0.19020833, 0.1552721 , ..., 0.43525442,\n",
       "          0.43515453, 0.46554485],\n",
       "         [0.21957673, 0.17510548, 0.1552721 , ..., 0.43956387,\n",
       "          0.44119602, 0.46554485],\n",
       "         [0.21957673, 0.17510548, 0.14115645, ..., 0.44818276,\n",
       "          0.4457918 , 0.4854968 ]],\n",
       "\n",
       "        [[0.3074074 , 0.29767933, 0.2823129 , ..., 0.24132918,\n",
       "          0.22978958, 0.23277242],\n",
       "         [0.32936507, 0.31518987, 0.2823129 , ..., 0.23271029,\n",
       "          0.22978958, 0.23277242],\n",
       "         [0.32936507, 0.29767933, 0.2823129 , ..., 0.23271029,\n",
       "          0.23898117, 0.24607371],\n",
       "         ...,\n",
       "         [0.19761905, 0.17291667, 0.16938774, ..., 0.44387332,\n",
       "          0.43515453, 0.4721955 ],\n",
       "         [0.21957673, 0.19261603, 0.16938774, ..., 0.44387332,\n",
       "          0.4503876 , 0.47884613],\n",
       "         [0.2415344 , 0.17510548, 0.1552721 , ..., 0.45249224,\n",
       "          0.44119602, 0.47884613]]], dtype=float32)"
      ]
     },
     "execution_count": 57,
     "metadata": {},
     "output_type": "execute_result"
    }
   ],
   "source": [
    "spectr"
   ]
  },
  {
   "cell_type": "code",
   "execution_count": 52,
   "metadata": {},
   "outputs": [],
   "source": [
    "def find_spec (spec_img, x_0, x_1, y_0, y_1, num, target):\n",
    "    df = pd.DataFrame()\n",
    "    for i in range(0, 204):\n",
    "        df[str(i+1)] = []\n",
    "    i = 0\n",
    "    x_list = []\n",
    "    y_list = []\n",
    "    num_list = []\n",
    "    target_list = []\n",
    "    for x in tqdm.tqdm(range(x_0, x_1)):\n",
    "        for y in range(y_0, y_1):\n",
    "            df.loc[i] = spec_img[x, y, :]\n",
    "            i += 1\n",
    "            y_list.append(y)\n",
    "            x_list.append(x)\n",
    "            num_list.append(num)\n",
    "            target_list.append(target)\n",
    "    df['x'] = x_list\n",
    "    df['y'] = y_list\n",
    "    df['N'] = num_list\n",
    "    df['target'] = target_list\n",
    "    return df"
   ]
  },
  {
   "cell_type": "code",
   "execution_count": 58,
   "metadata": {},
   "outputs": [
    {
     "name": "stderr",
     "output_type": "stream",
     "text": [
      "/tmp/ipykernel_20984/3491492548.py:4: PerformanceWarning: DataFrame is highly fragmented.  This is usually the result of calling `frame.insert` many times, which has poor performance.  Consider joining all columns at once using pd.concat(axis=1) instead. To get a de-fragmented frame, use `newframe = frame.copy()`\n",
      "  df[str(i+1)] = []\n",
      "/tmp/ipykernel_20984/3491492548.py:4: PerformanceWarning: DataFrame is highly fragmented.  This is usually the result of calling `frame.insert` many times, which has poor performance.  Consider joining all columns at once using pd.concat(axis=1) instead. To get a de-fragmented frame, use `newframe = frame.copy()`\n",
      "  df[str(i+1)] = []\n",
      "/tmp/ipykernel_20984/3491492548.py:4: PerformanceWarning: DataFrame is highly fragmented.  This is usually the result of calling `frame.insert` many times, which has poor performance.  Consider joining all columns at once using pd.concat(axis=1) instead. To get a de-fragmented frame, use `newframe = frame.copy()`\n",
      "  df[str(i+1)] = []\n",
      "/tmp/ipykernel_20984/3491492548.py:4: PerformanceWarning: DataFrame is highly fragmented.  This is usually the result of calling `frame.insert` many times, which has poor performance.  Consider joining all columns at once using pd.concat(axis=1) instead. To get a de-fragmented frame, use `newframe = frame.copy()`\n",
      "  df[str(i+1)] = []\n",
      "/tmp/ipykernel_20984/3491492548.py:4: PerformanceWarning: DataFrame is highly fragmented.  This is usually the result of calling `frame.insert` many times, which has poor performance.  Consider joining all columns at once using pd.concat(axis=1) instead. To get a de-fragmented frame, use `newframe = frame.copy()`\n",
      "  df[str(i+1)] = []\n",
      "/tmp/ipykernel_20984/3491492548.py:4: PerformanceWarning: DataFrame is highly fragmented.  This is usually the result of calling `frame.insert` many times, which has poor performance.  Consider joining all columns at once using pd.concat(axis=1) instead. To get a de-fragmented frame, use `newframe = frame.copy()`\n",
      "  df[str(i+1)] = []\n",
      "/tmp/ipykernel_20984/3491492548.py:4: PerformanceWarning: DataFrame is highly fragmented.  This is usually the result of calling `frame.insert` many times, which has poor performance.  Consider joining all columns at once using pd.concat(axis=1) instead. To get a de-fragmented frame, use `newframe = frame.copy()`\n",
      "  df[str(i+1)] = []\n",
      "/tmp/ipykernel_20984/3491492548.py:4: PerformanceWarning: DataFrame is highly fragmented.  This is usually the result of calling `frame.insert` many times, which has poor performance.  Consider joining all columns at once using pd.concat(axis=1) instead. To get a de-fragmented frame, use `newframe = frame.copy()`\n",
      "  df[str(i+1)] = []\n",
      "/tmp/ipykernel_20984/3491492548.py:4: PerformanceWarning: DataFrame is highly fragmented.  This is usually the result of calling `frame.insert` many times, which has poor performance.  Consider joining all columns at once using pd.concat(axis=1) instead. To get a de-fragmented frame, use `newframe = frame.copy()`\n",
      "  df[str(i+1)] = []\n",
      "/tmp/ipykernel_20984/3491492548.py:4: PerformanceWarning: DataFrame is highly fragmented.  This is usually the result of calling `frame.insert` many times, which has poor performance.  Consider joining all columns at once using pd.concat(axis=1) instead. To get a de-fragmented frame, use `newframe = frame.copy()`\n",
      "  df[str(i+1)] = []\n",
      "/tmp/ipykernel_20984/3491492548.py:4: PerformanceWarning: DataFrame is highly fragmented.  This is usually the result of calling `frame.insert` many times, which has poor performance.  Consider joining all columns at once using pd.concat(axis=1) instead. To get a de-fragmented frame, use `newframe = frame.copy()`\n",
      "  df[str(i+1)] = []\n",
      "/tmp/ipykernel_20984/3491492548.py:4: PerformanceWarning: DataFrame is highly fragmented.  This is usually the result of calling `frame.insert` many times, which has poor performance.  Consider joining all columns at once using pd.concat(axis=1) instead. To get a de-fragmented frame, use `newframe = frame.copy()`\n",
      "  df[str(i+1)] = []\n",
      "/tmp/ipykernel_20984/3491492548.py:4: PerformanceWarning: DataFrame is highly fragmented.  This is usually the result of calling `frame.insert` many times, which has poor performance.  Consider joining all columns at once using pd.concat(axis=1) instead. To get a de-fragmented frame, use `newframe = frame.copy()`\n",
      "  df[str(i+1)] = []\n",
      "/tmp/ipykernel_20984/3491492548.py:4: PerformanceWarning: DataFrame is highly fragmented.  This is usually the result of calling `frame.insert` many times, which has poor performance.  Consider joining all columns at once using pd.concat(axis=1) instead. To get a de-fragmented frame, use `newframe = frame.copy()`\n",
      "  df[str(i+1)] = []\n",
      "/tmp/ipykernel_20984/3491492548.py:4: PerformanceWarning: DataFrame is highly fragmented.  This is usually the result of calling `frame.insert` many times, which has poor performance.  Consider joining all columns at once using pd.concat(axis=1) instead. To get a de-fragmented frame, use `newframe = frame.copy()`\n",
      "  df[str(i+1)] = []\n",
      "/tmp/ipykernel_20984/3491492548.py:4: PerformanceWarning: DataFrame is highly fragmented.  This is usually the result of calling `frame.insert` many times, which has poor performance.  Consider joining all columns at once using pd.concat(axis=1) instead. To get a de-fragmented frame, use `newframe = frame.copy()`\n",
      "  df[str(i+1)] = []\n",
      "/tmp/ipykernel_20984/3491492548.py:4: PerformanceWarning: DataFrame is highly fragmented.  This is usually the result of calling `frame.insert` many times, which has poor performance.  Consider joining all columns at once using pd.concat(axis=1) instead. To get a de-fragmented frame, use `newframe = frame.copy()`\n",
      "  df[str(i+1)] = []\n",
      "/tmp/ipykernel_20984/3491492548.py:4: PerformanceWarning: DataFrame is highly fragmented.  This is usually the result of calling `frame.insert` many times, which has poor performance.  Consider joining all columns at once using pd.concat(axis=1) instead. To get a de-fragmented frame, use `newframe = frame.copy()`\n",
      "  df[str(i+1)] = []\n",
      "/tmp/ipykernel_20984/3491492548.py:4: PerformanceWarning: DataFrame is highly fragmented.  This is usually the result of calling `frame.insert` many times, which has poor performance.  Consider joining all columns at once using pd.concat(axis=1) instead. To get a de-fragmented frame, use `newframe = frame.copy()`\n",
      "  df[str(i+1)] = []\n",
      "/tmp/ipykernel_20984/3491492548.py:4: PerformanceWarning: DataFrame is highly fragmented.  This is usually the result of calling `frame.insert` many times, which has poor performance.  Consider joining all columns at once using pd.concat(axis=1) instead. To get a de-fragmented frame, use `newframe = frame.copy()`\n",
      "  df[str(i+1)] = []\n",
      "/tmp/ipykernel_20984/3491492548.py:4: PerformanceWarning: DataFrame is highly fragmented.  This is usually the result of calling `frame.insert` many times, which has poor performance.  Consider joining all columns at once using pd.concat(axis=1) instead. To get a de-fragmented frame, use `newframe = frame.copy()`\n",
      "  df[str(i+1)] = []\n",
      "/tmp/ipykernel_20984/3491492548.py:4: PerformanceWarning: DataFrame is highly fragmented.  This is usually the result of calling `frame.insert` many times, which has poor performance.  Consider joining all columns at once using pd.concat(axis=1) instead. To get a de-fragmented frame, use `newframe = frame.copy()`\n",
      "  df[str(i+1)] = []\n",
      "/tmp/ipykernel_20984/3491492548.py:4: PerformanceWarning: DataFrame is highly fragmented.  This is usually the result of calling `frame.insert` many times, which has poor performance.  Consider joining all columns at once using pd.concat(axis=1) instead. To get a de-fragmented frame, use `newframe = frame.copy()`\n",
      "  df[str(i+1)] = []\n",
      "/tmp/ipykernel_20984/3491492548.py:4: PerformanceWarning: DataFrame is highly fragmented.  This is usually the result of calling `frame.insert` many times, which has poor performance.  Consider joining all columns at once using pd.concat(axis=1) instead. To get a de-fragmented frame, use `newframe = frame.copy()`\n",
      "  df[str(i+1)] = []\n",
      "/tmp/ipykernel_20984/3491492548.py:4: PerformanceWarning: DataFrame is highly fragmented.  This is usually the result of calling `frame.insert` many times, which has poor performance.  Consider joining all columns at once using pd.concat(axis=1) instead. To get a de-fragmented frame, use `newframe = frame.copy()`\n",
      "  df[str(i+1)] = []\n",
      "/tmp/ipykernel_20984/3491492548.py:4: PerformanceWarning: DataFrame is highly fragmented.  This is usually the result of calling `frame.insert` many times, which has poor performance.  Consider joining all columns at once using pd.concat(axis=1) instead. To get a de-fragmented frame, use `newframe = frame.copy()`\n",
      "  df[str(i+1)] = []\n",
      "/tmp/ipykernel_20984/3491492548.py:4: PerformanceWarning: DataFrame is highly fragmented.  This is usually the result of calling `frame.insert` many times, which has poor performance.  Consider joining all columns at once using pd.concat(axis=1) instead. To get a de-fragmented frame, use `newframe = frame.copy()`\n",
      "  df[str(i+1)] = []\n",
      "/tmp/ipykernel_20984/3491492548.py:4: PerformanceWarning: DataFrame is highly fragmented.  This is usually the result of calling `frame.insert` many times, which has poor performance.  Consider joining all columns at once using pd.concat(axis=1) instead. To get a de-fragmented frame, use `newframe = frame.copy()`\n",
      "  df[str(i+1)] = []\n",
      "/tmp/ipykernel_20984/3491492548.py:4: PerformanceWarning: DataFrame is highly fragmented.  This is usually the result of calling `frame.insert` many times, which has poor performance.  Consider joining all columns at once using pd.concat(axis=1) instead. To get a de-fragmented frame, use `newframe = frame.copy()`\n",
      "  df[str(i+1)] = []\n",
      "/tmp/ipykernel_20984/3491492548.py:4: PerformanceWarning: DataFrame is highly fragmented.  This is usually the result of calling `frame.insert` many times, which has poor performance.  Consider joining all columns at once using pd.concat(axis=1) instead. To get a de-fragmented frame, use `newframe = frame.copy()`\n",
      "  df[str(i+1)] = []\n",
      "/tmp/ipykernel_20984/3491492548.py:4: PerformanceWarning: DataFrame is highly fragmented.  This is usually the result of calling `frame.insert` many times, which has poor performance.  Consider joining all columns at once using pd.concat(axis=1) instead. To get a de-fragmented frame, use `newframe = frame.copy()`\n",
      "  df[str(i+1)] = []\n",
      "/tmp/ipykernel_20984/3491492548.py:4: PerformanceWarning: DataFrame is highly fragmented.  This is usually the result of calling `frame.insert` many times, which has poor performance.  Consider joining all columns at once using pd.concat(axis=1) instead. To get a de-fragmented frame, use `newframe = frame.copy()`\n",
      "  df[str(i+1)] = []\n",
      "/tmp/ipykernel_20984/3491492548.py:4: PerformanceWarning: DataFrame is highly fragmented.  This is usually the result of calling `frame.insert` many times, which has poor performance.  Consider joining all columns at once using pd.concat(axis=1) instead. To get a de-fragmented frame, use `newframe = frame.copy()`\n",
      "  df[str(i+1)] = []\n",
      "/tmp/ipykernel_20984/3491492548.py:4: PerformanceWarning: DataFrame is highly fragmented.  This is usually the result of calling `frame.insert` many times, which has poor performance.  Consider joining all columns at once using pd.concat(axis=1) instead. To get a de-fragmented frame, use `newframe = frame.copy()`\n",
      "  df[str(i+1)] = []\n",
      "/tmp/ipykernel_20984/3491492548.py:4: PerformanceWarning: DataFrame is highly fragmented.  This is usually the result of calling `frame.insert` many times, which has poor performance.  Consider joining all columns at once using pd.concat(axis=1) instead. To get a de-fragmented frame, use `newframe = frame.copy()`\n",
      "  df[str(i+1)] = []\n",
      "/tmp/ipykernel_20984/3491492548.py:4: PerformanceWarning: DataFrame is highly fragmented.  This is usually the result of calling `frame.insert` many times, which has poor performance.  Consider joining all columns at once using pd.concat(axis=1) instead. To get a de-fragmented frame, use `newframe = frame.copy()`\n",
      "  df[str(i+1)] = []\n",
      "/tmp/ipykernel_20984/3491492548.py:4: PerformanceWarning: DataFrame is highly fragmented.  This is usually the result of calling `frame.insert` many times, which has poor performance.  Consider joining all columns at once using pd.concat(axis=1) instead. To get a de-fragmented frame, use `newframe = frame.copy()`\n",
      "  df[str(i+1)] = []\n",
      "/tmp/ipykernel_20984/3491492548.py:4: PerformanceWarning: DataFrame is highly fragmented.  This is usually the result of calling `frame.insert` many times, which has poor performance.  Consider joining all columns at once using pd.concat(axis=1) instead. To get a de-fragmented frame, use `newframe = frame.copy()`\n",
      "  df[str(i+1)] = []\n",
      "/tmp/ipykernel_20984/3491492548.py:4: PerformanceWarning: DataFrame is highly fragmented.  This is usually the result of calling `frame.insert` many times, which has poor performance.  Consider joining all columns at once using pd.concat(axis=1) instead. To get a de-fragmented frame, use `newframe = frame.copy()`\n",
      "  df[str(i+1)] = []\n",
      "/tmp/ipykernel_20984/3491492548.py:4: PerformanceWarning: DataFrame is highly fragmented.  This is usually the result of calling `frame.insert` many times, which has poor performance.  Consider joining all columns at once using pd.concat(axis=1) instead. To get a de-fragmented frame, use `newframe = frame.copy()`\n",
      "  df[str(i+1)] = []\n",
      "/tmp/ipykernel_20984/3491492548.py:4: PerformanceWarning: DataFrame is highly fragmented.  This is usually the result of calling `frame.insert` many times, which has poor performance.  Consider joining all columns at once using pd.concat(axis=1) instead. To get a de-fragmented frame, use `newframe = frame.copy()`\n",
      "  df[str(i+1)] = []\n",
      "/tmp/ipykernel_20984/3491492548.py:4: PerformanceWarning: DataFrame is highly fragmented.  This is usually the result of calling `frame.insert` many times, which has poor performance.  Consider joining all columns at once using pd.concat(axis=1) instead. To get a de-fragmented frame, use `newframe = frame.copy()`\n",
      "  df[str(i+1)] = []\n",
      "/tmp/ipykernel_20984/3491492548.py:4: PerformanceWarning: DataFrame is highly fragmented.  This is usually the result of calling `frame.insert` many times, which has poor performance.  Consider joining all columns at once using pd.concat(axis=1) instead. To get a de-fragmented frame, use `newframe = frame.copy()`\n",
      "  df[str(i+1)] = []\n",
      "/tmp/ipykernel_20984/3491492548.py:4: PerformanceWarning: DataFrame is highly fragmented.  This is usually the result of calling `frame.insert` many times, which has poor performance.  Consider joining all columns at once using pd.concat(axis=1) instead. To get a de-fragmented frame, use `newframe = frame.copy()`\n",
      "  df[str(i+1)] = []\n",
      "/tmp/ipykernel_20984/3491492548.py:4: PerformanceWarning: DataFrame is highly fragmented.  This is usually the result of calling `frame.insert` many times, which has poor performance.  Consider joining all columns at once using pd.concat(axis=1) instead. To get a de-fragmented frame, use `newframe = frame.copy()`\n",
      "  df[str(i+1)] = []\n",
      "/tmp/ipykernel_20984/3491492548.py:4: PerformanceWarning: DataFrame is highly fragmented.  This is usually the result of calling `frame.insert` many times, which has poor performance.  Consider joining all columns at once using pd.concat(axis=1) instead. To get a de-fragmented frame, use `newframe = frame.copy()`\n",
      "  df[str(i+1)] = []\n",
      "/tmp/ipykernel_20984/3491492548.py:4: PerformanceWarning: DataFrame is highly fragmented.  This is usually the result of calling `frame.insert` many times, which has poor performance.  Consider joining all columns at once using pd.concat(axis=1) instead. To get a de-fragmented frame, use `newframe = frame.copy()`\n",
      "  df[str(i+1)] = []\n",
      "/tmp/ipykernel_20984/3491492548.py:4: PerformanceWarning: DataFrame is highly fragmented.  This is usually the result of calling `frame.insert` many times, which has poor performance.  Consider joining all columns at once using pd.concat(axis=1) instead. To get a de-fragmented frame, use `newframe = frame.copy()`\n",
      "  df[str(i+1)] = []\n",
      "/tmp/ipykernel_20984/3491492548.py:4: PerformanceWarning: DataFrame is highly fragmented.  This is usually the result of calling `frame.insert` many times, which has poor performance.  Consider joining all columns at once using pd.concat(axis=1) instead. To get a de-fragmented frame, use `newframe = frame.copy()`\n",
      "  df[str(i+1)] = []\n",
      "/tmp/ipykernel_20984/3491492548.py:4: PerformanceWarning: DataFrame is highly fragmented.  This is usually the result of calling `frame.insert` many times, which has poor performance.  Consider joining all columns at once using pd.concat(axis=1) instead. To get a de-fragmented frame, use `newframe = frame.copy()`\n",
      "  df[str(i+1)] = []\n",
      "/tmp/ipykernel_20984/3491492548.py:4: PerformanceWarning: DataFrame is highly fragmented.  This is usually the result of calling `frame.insert` many times, which has poor performance.  Consider joining all columns at once using pd.concat(axis=1) instead. To get a de-fragmented frame, use `newframe = frame.copy()`\n",
      "  df[str(i+1)] = []\n",
      "/tmp/ipykernel_20984/3491492548.py:4: PerformanceWarning: DataFrame is highly fragmented.  This is usually the result of calling `frame.insert` many times, which has poor performance.  Consider joining all columns at once using pd.concat(axis=1) instead. To get a de-fragmented frame, use `newframe = frame.copy()`\n",
      "  df[str(i+1)] = []\n",
      "/tmp/ipykernel_20984/3491492548.py:4: PerformanceWarning: DataFrame is highly fragmented.  This is usually the result of calling `frame.insert` many times, which has poor performance.  Consider joining all columns at once using pd.concat(axis=1) instead. To get a de-fragmented frame, use `newframe = frame.copy()`\n",
      "  df[str(i+1)] = []\n",
      "/tmp/ipykernel_20984/3491492548.py:4: PerformanceWarning: DataFrame is highly fragmented.  This is usually the result of calling `frame.insert` many times, which has poor performance.  Consider joining all columns at once using pd.concat(axis=1) instead. To get a de-fragmented frame, use `newframe = frame.copy()`\n",
      "  df[str(i+1)] = []\n",
      "/tmp/ipykernel_20984/3491492548.py:4: PerformanceWarning: DataFrame is highly fragmented.  This is usually the result of calling `frame.insert` many times, which has poor performance.  Consider joining all columns at once using pd.concat(axis=1) instead. To get a de-fragmented frame, use `newframe = frame.copy()`\n",
      "  df[str(i+1)] = []\n",
      "/tmp/ipykernel_20984/3491492548.py:4: PerformanceWarning: DataFrame is highly fragmented.  This is usually the result of calling `frame.insert` many times, which has poor performance.  Consider joining all columns at once using pd.concat(axis=1) instead. To get a de-fragmented frame, use `newframe = frame.copy()`\n",
      "  df[str(i+1)] = []\n",
      "/tmp/ipykernel_20984/3491492548.py:4: PerformanceWarning: DataFrame is highly fragmented.  This is usually the result of calling `frame.insert` many times, which has poor performance.  Consider joining all columns at once using pd.concat(axis=1) instead. To get a de-fragmented frame, use `newframe = frame.copy()`\n",
      "  df[str(i+1)] = []\n",
      "/tmp/ipykernel_20984/3491492548.py:4: PerformanceWarning: DataFrame is highly fragmented.  This is usually the result of calling `frame.insert` many times, which has poor performance.  Consider joining all columns at once using pd.concat(axis=1) instead. To get a de-fragmented frame, use `newframe = frame.copy()`\n",
      "  df[str(i+1)] = []\n",
      "/tmp/ipykernel_20984/3491492548.py:4: PerformanceWarning: DataFrame is highly fragmented.  This is usually the result of calling `frame.insert` many times, which has poor performance.  Consider joining all columns at once using pd.concat(axis=1) instead. To get a de-fragmented frame, use `newframe = frame.copy()`\n",
      "  df[str(i+1)] = []\n",
      "/tmp/ipykernel_20984/3491492548.py:4: PerformanceWarning: DataFrame is highly fragmented.  This is usually the result of calling `frame.insert` many times, which has poor performance.  Consider joining all columns at once using pd.concat(axis=1) instead. To get a de-fragmented frame, use `newframe = frame.copy()`\n",
      "  df[str(i+1)] = []\n",
      "/tmp/ipykernel_20984/3491492548.py:4: PerformanceWarning: DataFrame is highly fragmented.  This is usually the result of calling `frame.insert` many times, which has poor performance.  Consider joining all columns at once using pd.concat(axis=1) instead. To get a de-fragmented frame, use `newframe = frame.copy()`\n",
      "  df[str(i+1)] = []\n",
      "/tmp/ipykernel_20984/3491492548.py:4: PerformanceWarning: DataFrame is highly fragmented.  This is usually the result of calling `frame.insert` many times, which has poor performance.  Consider joining all columns at once using pd.concat(axis=1) instead. To get a de-fragmented frame, use `newframe = frame.copy()`\n",
      "  df[str(i+1)] = []\n",
      "/tmp/ipykernel_20984/3491492548.py:4: PerformanceWarning: DataFrame is highly fragmented.  This is usually the result of calling `frame.insert` many times, which has poor performance.  Consider joining all columns at once using pd.concat(axis=1) instead. To get a de-fragmented frame, use `newframe = frame.copy()`\n",
      "  df[str(i+1)] = []\n",
      "/tmp/ipykernel_20984/3491492548.py:4: PerformanceWarning: DataFrame is highly fragmented.  This is usually the result of calling `frame.insert` many times, which has poor performance.  Consider joining all columns at once using pd.concat(axis=1) instead. To get a de-fragmented frame, use `newframe = frame.copy()`\n",
      "  df[str(i+1)] = []\n",
      "/tmp/ipykernel_20984/3491492548.py:4: PerformanceWarning: DataFrame is highly fragmented.  This is usually the result of calling `frame.insert` many times, which has poor performance.  Consider joining all columns at once using pd.concat(axis=1) instead. To get a de-fragmented frame, use `newframe = frame.copy()`\n",
      "  df[str(i+1)] = []\n",
      "/tmp/ipykernel_20984/3491492548.py:4: PerformanceWarning: DataFrame is highly fragmented.  This is usually the result of calling `frame.insert` many times, which has poor performance.  Consider joining all columns at once using pd.concat(axis=1) instead. To get a de-fragmented frame, use `newframe = frame.copy()`\n",
      "  df[str(i+1)] = []\n",
      "/tmp/ipykernel_20984/3491492548.py:4: PerformanceWarning: DataFrame is highly fragmented.  This is usually the result of calling `frame.insert` many times, which has poor performance.  Consider joining all columns at once using pd.concat(axis=1) instead. To get a de-fragmented frame, use `newframe = frame.copy()`\n",
      "  df[str(i+1)] = []\n",
      "/tmp/ipykernel_20984/3491492548.py:4: PerformanceWarning: DataFrame is highly fragmented.  This is usually the result of calling `frame.insert` many times, which has poor performance.  Consider joining all columns at once using pd.concat(axis=1) instead. To get a de-fragmented frame, use `newframe = frame.copy()`\n",
      "  df[str(i+1)] = []\n",
      "/tmp/ipykernel_20984/3491492548.py:4: PerformanceWarning: DataFrame is highly fragmented.  This is usually the result of calling `frame.insert` many times, which has poor performance.  Consider joining all columns at once using pd.concat(axis=1) instead. To get a de-fragmented frame, use `newframe = frame.copy()`\n",
      "  df[str(i+1)] = []\n",
      "/tmp/ipykernel_20984/3491492548.py:4: PerformanceWarning: DataFrame is highly fragmented.  This is usually the result of calling `frame.insert` many times, which has poor performance.  Consider joining all columns at once using pd.concat(axis=1) instead. To get a de-fragmented frame, use `newframe = frame.copy()`\n",
      "  df[str(i+1)] = []\n",
      "/tmp/ipykernel_20984/3491492548.py:4: PerformanceWarning: DataFrame is highly fragmented.  This is usually the result of calling `frame.insert` many times, which has poor performance.  Consider joining all columns at once using pd.concat(axis=1) instead. To get a de-fragmented frame, use `newframe = frame.copy()`\n",
      "  df[str(i+1)] = []\n",
      "/tmp/ipykernel_20984/3491492548.py:4: PerformanceWarning: DataFrame is highly fragmented.  This is usually the result of calling `frame.insert` many times, which has poor performance.  Consider joining all columns at once using pd.concat(axis=1) instead. To get a de-fragmented frame, use `newframe = frame.copy()`\n",
      "  df[str(i+1)] = []\n",
      "/tmp/ipykernel_20984/3491492548.py:4: PerformanceWarning: DataFrame is highly fragmented.  This is usually the result of calling `frame.insert` many times, which has poor performance.  Consider joining all columns at once using pd.concat(axis=1) instead. To get a de-fragmented frame, use `newframe = frame.copy()`\n",
      "  df[str(i+1)] = []\n",
      "/tmp/ipykernel_20984/3491492548.py:4: PerformanceWarning: DataFrame is highly fragmented.  This is usually the result of calling `frame.insert` many times, which has poor performance.  Consider joining all columns at once using pd.concat(axis=1) instead. To get a de-fragmented frame, use `newframe = frame.copy()`\n",
      "  df[str(i+1)] = []\n",
      "/tmp/ipykernel_20984/3491492548.py:4: PerformanceWarning: DataFrame is highly fragmented.  This is usually the result of calling `frame.insert` many times, which has poor performance.  Consider joining all columns at once using pd.concat(axis=1) instead. To get a de-fragmented frame, use `newframe = frame.copy()`\n",
      "  df[str(i+1)] = []\n",
      "/tmp/ipykernel_20984/3491492548.py:4: PerformanceWarning: DataFrame is highly fragmented.  This is usually the result of calling `frame.insert` many times, which has poor performance.  Consider joining all columns at once using pd.concat(axis=1) instead. To get a de-fragmented frame, use `newframe = frame.copy()`\n",
      "  df[str(i+1)] = []\n",
      "/tmp/ipykernel_20984/3491492548.py:4: PerformanceWarning: DataFrame is highly fragmented.  This is usually the result of calling `frame.insert` many times, which has poor performance.  Consider joining all columns at once using pd.concat(axis=1) instead. To get a de-fragmented frame, use `newframe = frame.copy()`\n",
      "  df[str(i+1)] = []\n",
      "/tmp/ipykernel_20984/3491492548.py:4: PerformanceWarning: DataFrame is highly fragmented.  This is usually the result of calling `frame.insert` many times, which has poor performance.  Consider joining all columns at once using pd.concat(axis=1) instead. To get a de-fragmented frame, use `newframe = frame.copy()`\n",
      "  df[str(i+1)] = []\n",
      "/tmp/ipykernel_20984/3491492548.py:4: PerformanceWarning: DataFrame is highly fragmented.  This is usually the result of calling `frame.insert` many times, which has poor performance.  Consider joining all columns at once using pd.concat(axis=1) instead. To get a de-fragmented frame, use `newframe = frame.copy()`\n",
      "  df[str(i+1)] = []\n",
      "/tmp/ipykernel_20984/3491492548.py:4: PerformanceWarning: DataFrame is highly fragmented.  This is usually the result of calling `frame.insert` many times, which has poor performance.  Consider joining all columns at once using pd.concat(axis=1) instead. To get a de-fragmented frame, use `newframe = frame.copy()`\n",
      "  df[str(i+1)] = []\n",
      "/tmp/ipykernel_20984/3491492548.py:4: PerformanceWarning: DataFrame is highly fragmented.  This is usually the result of calling `frame.insert` many times, which has poor performance.  Consider joining all columns at once using pd.concat(axis=1) instead. To get a de-fragmented frame, use `newframe = frame.copy()`\n",
      "  df[str(i+1)] = []\n",
      "/tmp/ipykernel_20984/3491492548.py:4: PerformanceWarning: DataFrame is highly fragmented.  This is usually the result of calling `frame.insert` many times, which has poor performance.  Consider joining all columns at once using pd.concat(axis=1) instead. To get a de-fragmented frame, use `newframe = frame.copy()`\n",
      "  df[str(i+1)] = []\n",
      "/tmp/ipykernel_20984/3491492548.py:4: PerformanceWarning: DataFrame is highly fragmented.  This is usually the result of calling `frame.insert` many times, which has poor performance.  Consider joining all columns at once using pd.concat(axis=1) instead. To get a de-fragmented frame, use `newframe = frame.copy()`\n",
      "  df[str(i+1)] = []\n",
      "/tmp/ipykernel_20984/3491492548.py:4: PerformanceWarning: DataFrame is highly fragmented.  This is usually the result of calling `frame.insert` many times, which has poor performance.  Consider joining all columns at once using pd.concat(axis=1) instead. To get a de-fragmented frame, use `newframe = frame.copy()`\n",
      "  df[str(i+1)] = []\n",
      "/tmp/ipykernel_20984/3491492548.py:4: PerformanceWarning: DataFrame is highly fragmented.  This is usually the result of calling `frame.insert` many times, which has poor performance.  Consider joining all columns at once using pd.concat(axis=1) instead. To get a de-fragmented frame, use `newframe = frame.copy()`\n",
      "  df[str(i+1)] = []\n",
      "/tmp/ipykernel_20984/3491492548.py:4: PerformanceWarning: DataFrame is highly fragmented.  This is usually the result of calling `frame.insert` many times, which has poor performance.  Consider joining all columns at once using pd.concat(axis=1) instead. To get a de-fragmented frame, use `newframe = frame.copy()`\n",
      "  df[str(i+1)] = []\n",
      "/tmp/ipykernel_20984/3491492548.py:4: PerformanceWarning: DataFrame is highly fragmented.  This is usually the result of calling `frame.insert` many times, which has poor performance.  Consider joining all columns at once using pd.concat(axis=1) instead. To get a de-fragmented frame, use `newframe = frame.copy()`\n",
      "  df[str(i+1)] = []\n",
      "/tmp/ipykernel_20984/3491492548.py:4: PerformanceWarning: DataFrame is highly fragmented.  This is usually the result of calling `frame.insert` many times, which has poor performance.  Consider joining all columns at once using pd.concat(axis=1) instead. To get a de-fragmented frame, use `newframe = frame.copy()`\n",
      "  df[str(i+1)] = []\n",
      "/tmp/ipykernel_20984/3491492548.py:4: PerformanceWarning: DataFrame is highly fragmented.  This is usually the result of calling `frame.insert` many times, which has poor performance.  Consider joining all columns at once using pd.concat(axis=1) instead. To get a de-fragmented frame, use `newframe = frame.copy()`\n",
      "  df[str(i+1)] = []\n",
      "/tmp/ipykernel_20984/3491492548.py:4: PerformanceWarning: DataFrame is highly fragmented.  This is usually the result of calling `frame.insert` many times, which has poor performance.  Consider joining all columns at once using pd.concat(axis=1) instead. To get a de-fragmented frame, use `newframe = frame.copy()`\n",
      "  df[str(i+1)] = []\n",
      "/tmp/ipykernel_20984/3491492548.py:4: PerformanceWarning: DataFrame is highly fragmented.  This is usually the result of calling `frame.insert` many times, which has poor performance.  Consider joining all columns at once using pd.concat(axis=1) instead. To get a de-fragmented frame, use `newframe = frame.copy()`\n",
      "  df[str(i+1)] = []\n",
      "/tmp/ipykernel_20984/3491492548.py:4: PerformanceWarning: DataFrame is highly fragmented.  This is usually the result of calling `frame.insert` many times, which has poor performance.  Consider joining all columns at once using pd.concat(axis=1) instead. To get a de-fragmented frame, use `newframe = frame.copy()`\n",
      "  df[str(i+1)] = []\n",
      "/tmp/ipykernel_20984/3491492548.py:4: PerformanceWarning: DataFrame is highly fragmented.  This is usually the result of calling `frame.insert` many times, which has poor performance.  Consider joining all columns at once using pd.concat(axis=1) instead. To get a de-fragmented frame, use `newframe = frame.copy()`\n",
      "  df[str(i+1)] = []\n",
      "/tmp/ipykernel_20984/3491492548.py:4: PerformanceWarning: DataFrame is highly fragmented.  This is usually the result of calling `frame.insert` many times, which has poor performance.  Consider joining all columns at once using pd.concat(axis=1) instead. To get a de-fragmented frame, use `newframe = frame.copy()`\n",
      "  df[str(i+1)] = []\n",
      "/tmp/ipykernel_20984/3491492548.py:4: PerformanceWarning: DataFrame is highly fragmented.  This is usually the result of calling `frame.insert` many times, which has poor performance.  Consider joining all columns at once using pd.concat(axis=1) instead. To get a de-fragmented frame, use `newframe = frame.copy()`\n",
      "  df[str(i+1)] = []\n",
      "/tmp/ipykernel_20984/3491492548.py:4: PerformanceWarning: DataFrame is highly fragmented.  This is usually the result of calling `frame.insert` many times, which has poor performance.  Consider joining all columns at once using pd.concat(axis=1) instead. To get a de-fragmented frame, use `newframe = frame.copy()`\n",
      "  df[str(i+1)] = []\n",
      "/tmp/ipykernel_20984/3491492548.py:4: PerformanceWarning: DataFrame is highly fragmented.  This is usually the result of calling `frame.insert` many times, which has poor performance.  Consider joining all columns at once using pd.concat(axis=1) instead. To get a de-fragmented frame, use `newframe = frame.copy()`\n",
      "  df[str(i+1)] = []\n",
      "/tmp/ipykernel_20984/3491492548.py:4: PerformanceWarning: DataFrame is highly fragmented.  This is usually the result of calling `frame.insert` many times, which has poor performance.  Consider joining all columns at once using pd.concat(axis=1) instead. To get a de-fragmented frame, use `newframe = frame.copy()`\n",
      "  df[str(i+1)] = []\n",
      "/tmp/ipykernel_20984/3491492548.py:4: PerformanceWarning: DataFrame is highly fragmented.  This is usually the result of calling `frame.insert` many times, which has poor performance.  Consider joining all columns at once using pd.concat(axis=1) instead. To get a de-fragmented frame, use `newframe = frame.copy()`\n",
      "  df[str(i+1)] = []\n",
      "/tmp/ipykernel_20984/3491492548.py:4: PerformanceWarning: DataFrame is highly fragmented.  This is usually the result of calling `frame.insert` many times, which has poor performance.  Consider joining all columns at once using pd.concat(axis=1) instead. To get a de-fragmented frame, use `newframe = frame.copy()`\n",
      "  df[str(i+1)] = []\n",
      "/tmp/ipykernel_20984/3491492548.py:4: PerformanceWarning: DataFrame is highly fragmented.  This is usually the result of calling `frame.insert` many times, which has poor performance.  Consider joining all columns at once using pd.concat(axis=1) instead. To get a de-fragmented frame, use `newframe = frame.copy()`\n",
      "  df[str(i+1)] = []\n",
      "/tmp/ipykernel_20984/3491492548.py:4: PerformanceWarning: DataFrame is highly fragmented.  This is usually the result of calling `frame.insert` many times, which has poor performance.  Consider joining all columns at once using pd.concat(axis=1) instead. To get a de-fragmented frame, use `newframe = frame.copy()`\n",
      "  df[str(i+1)] = []\n",
      "/tmp/ipykernel_20984/3491492548.py:4: PerformanceWarning: DataFrame is highly fragmented.  This is usually the result of calling `frame.insert` many times, which has poor performance.  Consider joining all columns at once using pd.concat(axis=1) instead. To get a de-fragmented frame, use `newframe = frame.copy()`\n",
      "  df[str(i+1)] = []\n",
      "/tmp/ipykernel_20984/3491492548.py:4: PerformanceWarning: DataFrame is highly fragmented.  This is usually the result of calling `frame.insert` many times, which has poor performance.  Consider joining all columns at once using pd.concat(axis=1) instead. To get a de-fragmented frame, use `newframe = frame.copy()`\n",
      "  df[str(i+1)] = []\n",
      "100%|██████████| 211/211 [10:43<00:00,  3.05s/it]\n"
     ]
    }
   ],
   "source": [
    "df_1 = find_spec(spectr, 39, 250, 85, 359, '7', '1')"
   ]
  },
  {
   "cell_type": "code",
   "execution_count": 2,
   "metadata": {},
   "outputs": [
    {
     "ename": "NameError",
     "evalue": "name 'df1' is not defined",
     "output_type": "error",
     "traceback": [
      "\u001b[0;31m---------------------------------------------------------------------------\u001b[0m",
      "\u001b[0;31mNameError\u001b[0m                                 Traceback (most recent call last)",
      "\u001b[1;32m/home/sofya/Рабочий стол/PureFruit/open_data.ipynb Ячейка 13\u001b[0m in \u001b[0;36m<cell line: 1>\u001b[0;34m()\u001b[0m\n\u001b[0;32m----> <a href='vscode-notebook-cell:/home/sofya/%D0%A0%D0%B0%D0%B1%D0%BE%D1%87%D0%B8%D0%B9%20%D1%81%D1%82%D0%BE%D0%BB/PureFruit/open_data.ipynb#X15sZmlsZQ%3D%3D?line=0'>1</a>\u001b[0m df1\n",
      "\u001b[0;31mNameError\u001b[0m: name 'df1' is not defined"
     ]
    }
   ],
   "source": [
    "df1\n"
   ]
  },
  {
   "cell_type": "code",
   "execution_count": null,
   "metadata": {},
   "outputs": [],
   "source": []
  }
 ],
 "metadata": {
  "kernelspec": {
   "display_name": "Python 3.9.13 ('base')",
   "language": "python",
   "name": "python3"
  },
  "language_info": {
   "codemirror_mode": {
    "name": "ipython",
    "version": 3
   },
   "file_extension": ".py",
   "mimetype": "text/x-python",
   "name": "python",
   "nbconvert_exporter": "python",
   "pygments_lexer": "ipython3",
   "version": "3.9.16"
  },
  "orig_nbformat": 4,
  "vscode": {
   "interpreter": {
    "hash": "ce4612f5cc43648f503aa8eb7f2a41c796d0d330c9f537245bf6e2f2c567c915"
   }
  }
 },
 "nbformat": 4,
 "nbformat_minor": 2
}
